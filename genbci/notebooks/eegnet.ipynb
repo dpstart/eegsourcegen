{
 "metadata": {
  "language_info": {
   "codemirror_mode": {
    "name": "ipython",
    "version": 3
   },
   "file_extension": ".py",
   "mimetype": "text/x-python",
   "name": "python",
   "nbconvert_exporter": "python",
   "pygments_lexer": "ipython3",
   "version": 3
  },
  "orig_nbformat": 2,
  "kernelspec": {
   "name": "python_defaultSpec_1597671794794",
   "display_name": "Python 3.7.7 64-bit ('library': pipenv)"
  }
 },
 "nbformat": 4,
 "nbformat_minor": 2,
 "cells": [
  {
   "cell_type": "code",
   "execution_count": 147,
   "metadata": {
    "tags": []
   },
   "outputs": [
    {
     "output_type": "stream",
     "name": "stdout",
     "text": "Opening raw data file /Users/daniele/Desktop/thesis/library/genbci/ssvep/data/dataset-ssvep-exoskeleton/./subject12/record-[2014.03.10-19.47.49]_raw.fif...\nIsotrak not found\n    Range : 0 ... 90527 =      0.000 ...   353.621 secs\nReady.\nReading 0 ... 90527  =      0.000 ...   353.621 secs...\nFiltering raw data in 1 contiguous segment\nSetting up band-pass filter from 6 - 30 Hz\n\nIIR filter parameters\n---------------------\nButterworth bandpass zero-phase (two-pass forward and reverse) non-causal filter:\n- Filter order 16 (effective, after forward-backward)\n- Cutoffs at 6.00, 30.00 Hz: -6.02, -6.02 dB\n\nOpening raw data file /Users/daniele/Desktop/thesis/library/genbci/ssvep/data/dataset-ssvep-exoskeleton/./subject01/record-[2012.07.06-19.02.16]_raw.fif...\nIsotrak not found\n    Range : 0 ... 57023 =      0.000 ...   222.746 secs\nReady.\nReading 0 ... 57023  =      0.000 ...   222.746 secs...\nFiltering raw data in 1 contiguous segment\nSetting up band-pass filter from 6 - 30 Hz\n\nIIR filter parameters\n---------------------\nButterworth bandpass zero-phase (two-pass forward and reverse) non-causal filter:\n- Filter order 16 (effective, after forward-backward)\n- Cutoffs at 6.00, 30.00 Hz: -6.02, -6.02 dB\n\nOpening raw data file /Users/daniele/Desktop/thesis/library/genbci/ssvep/data/dataset-ssvep-exoskeleton/./subject01/record-[2012.07.06-19.06.14]_raw.fif...\nIsotrak not found\n    Range : 0 ... 78143 =      0.000 ...   305.246 secs\nReady.\nReading 0 ... 78143  =      0.000 ...   305.246 secs...\nFiltering raw data in 1 contiguous segment\nSetting up band-pass filter from 6 - 30 Hz\n\nIIR filter parameters\n---------------------\nButterworth bandpass zero-phase (two-pass forward and reverse) non-causal filter:\n- Filter order 16 (effective, after forward-backward)\n- Cutoffs at 6.00, 30.00 Hz: -6.02, -6.02 dB\n\nOpening raw data file /Users/daniele/Desktop/thesis/library/genbci/ssvep/data/dataset-ssvep-exoskeleton/./subject02/record-[2012.07.19-17.36.23]_raw.fif...\nIsotrak not found\n    Range : 0 ... 71711 =      0.000 ...   280.121 secs\nReady.\nReading 0 ... 71711  =      0.000 ...   280.121 secs...\nFiltering raw data in 1 contiguous segment\nSetting up band-pass filter from 6 - 30 Hz\n\nIIR filter parameters\n---------------------\nButterworth bandpass zero-phase (two-pass forward and reverse) non-causal filter:\n- Filter order 16 (effective, after forward-backward)\n- Cutoffs at 6.00, 30.00 Hz: -6.02, -6.02 dB\n\nOpening raw data file /Users/daniele/Desktop/thesis/library/genbci/ssvep/data/dataset-ssvep-exoskeleton/./subject02/record-[2012.07.19-17.41.14]_raw.fif...\nIsotrak not found\n    Range : 0 ... 59455 =      0.000 ...   232.246 secs\nReady.\nReading 0 ... 59455  =      0.000 ...   232.246 secs...\nFiltering raw data in 1 contiguous segment\nSetting up band-pass filter from 6 - 30 Hz\n\nIIR filter parameters\n---------------------\nButterworth bandpass zero-phase (two-pass forward and reverse) non-causal filter:\n- Filter order 16 (effective, after forward-backward)\n- Cutoffs at 6.00, 30.00 Hz: -6.02, -6.02 dB\n\nOpening raw data file /Users/daniele/Desktop/thesis/library/genbci/ssvep/data/dataset-ssvep-exoskeleton/./subject03/record-[2012.07.11-15.25.23]_raw.fif...\nIsotrak not found\n    Range : 0 ... 59039 =      0.000 ...   230.621 secs\nReady.\nReading 0 ... 59039  =      0.000 ...   230.621 secs...\nFiltering raw data in 1 contiguous segment\nSetting up band-pass filter from 6 - 30 Hz\n\nIIR filter parameters\n---------------------\nButterworth bandpass zero-phase (two-pass forward and reverse) non-causal filter:\n- Filter order 16 (effective, after forward-backward)\n- Cutoffs at 6.00, 30.00 Hz: -6.02, -6.02 dB\n\nOpening raw data file /Users/daniele/Desktop/thesis/library/genbci/ssvep/data/dataset-ssvep-exoskeleton/./subject03/record-[2012.07.11-15.33.08]_raw.fif...\nIsotrak not found\n    Range : 0 ... 63039 =      0.000 ...   246.246 secs\nReady.\nReading 0 ... 63039  =      0.000 ...   246.246 secs...\nFiltering raw data in 1 contiguous segment\nSetting up band-pass filter from 6 - 30 Hz\n\nIIR filter parameters\n---------------------\nButterworth bandpass zero-phase (two-pass forward and reverse) non-causal filter:\n- Filter order 16 (effective, after forward-backward)\n- Cutoffs at 6.00, 30.00 Hz: -6.02, -6.02 dB\n\nOpening raw data file /Users/daniele/Desktop/thesis/library/genbci/ssvep/data/dataset-ssvep-exoskeleton/./subject04/record-[2012.07.18-17.52.30]_raw.fif...\nIsotrak not found\n    Range : 0 ... 63647 =      0.000 ...   248.621 secs\nReady.\nReading 0 ... 63647  =      0.000 ...   248.621 secs...\nFiltering raw data in 1 contiguous segment\nSetting up band-pass filter from 6 - 30 Hz\n\nIIR filter parameters\n---------------------\nButterworth bandpass zero-phase (two-pass forward and reverse) non-causal filter:\n- Filter order 16 (effective, after forward-backward)\n- Cutoffs at 6.00, 30.00 Hz: -6.02, -6.02 dB\n\nOpening raw data file /Users/daniele/Desktop/thesis/library/genbci/ssvep/data/dataset-ssvep-exoskeleton/./subject04/record-[2012.07.18-17.56.53]_raw.fif...\nIsotrak not found\n    Range : 0 ... 57119 =      0.000 ...   223.121 secs\nReady.\nReading 0 ... 57119  =      0.000 ...   223.121 secs...\nFiltering raw data in 1 contiguous segment\nSetting up band-pass filter from 6 - 30 Hz\n\nIIR filter parameters\n---------------------\nButterworth bandpass zero-phase (two-pass forward and reverse) non-causal filter:\n- Filter order 16 (effective, after forward-backward)\n- Cutoffs at 6.00, 30.00 Hz: -6.02, -6.02 dB\n\nOpening raw data file /Users/daniele/Desktop/thesis/library/genbci/ssvep/data/dataset-ssvep-exoskeleton/./subject05/record-[2012.07.19-11.24.02]_raw.fif...\nIsotrak not found\n    Range : 0 ... 58847 =      0.000 ...   229.871 secs\nReady.\nReading 0 ... 58847  =      0.000 ...   229.871 secs...\nFiltering raw data in 1 contiguous segment\nSetting up band-pass filter from 6 - 30 Hz\n\nIIR filter parameters\n---------------------\nButterworth bandpass zero-phase (two-pass forward and reverse) non-causal filter:\n- Filter order 16 (effective, after forward-backward)\n- Cutoffs at 6.00, 30.00 Hz: -6.02, -6.02 dB\n\nOpening raw data file /Users/daniele/Desktop/thesis/library/genbci/ssvep/data/dataset-ssvep-exoskeleton/./subject05/record-[2012.07.19-11.28.18]_raw.fif...\nIsotrak not found\n    Range : 0 ... 68575 =      0.000 ...   267.871 secs\nReady.\nReading 0 ... 68575  =      0.000 ...   267.871 secs...\nFiltering raw data in 1 contiguous segment\nSetting up band-pass filter from 6 - 30 Hz\n\nIIR filter parameters\n---------------------\nButterworth bandpass zero-phase (two-pass forward and reverse) non-causal filter:\n- Filter order 16 (effective, after forward-backward)\n- Cutoffs at 6.00, 30.00 Hz: -6.02, -6.02 dB\n\nOpening raw data file /Users/daniele/Desktop/thesis/library/genbci/ssvep/data/dataset-ssvep-exoskeleton/./subject06/record-[2012.07.20-12.20.55]_raw.fif...\nIsotrak not found\n    Range : 0 ... 64543 =      0.000 ...   252.121 secs\nReady.\nReading 0 ... 64543  =      0.000 ...   252.121 secs...\nFiltering raw data in 1 contiguous segment\nSetting up band-pass filter from 6 - 30 Hz\n\nIIR filter parameters\n---------------------\nButterworth bandpass zero-phase (two-pass forward and reverse) non-causal filter:\n- Filter order 16 (effective, after forward-backward)\n- Cutoffs at 6.00, 30.00 Hz: -6.02, -6.02 dB\n\nOpening raw data file /Users/daniele/Desktop/thesis/library/genbci/ssvep/data/dataset-ssvep-exoskeleton/./subject06/record-[2012.07.20-12.26.47]_raw.fif...\nIsotrak not found\n    Range : 0 ... 75295 =      0.000 ...   294.121 secs\nReady.\nReading 0 ... 75295  =      0.000 ...   294.121 secs...\nFiltering raw data in 1 contiguous segment\nSetting up band-pass filter from 6 - 30 Hz\n\nIIR filter parameters\n---------------------\nButterworth bandpass zero-phase (two-pass forward and reverse) non-causal filter:\n- Filter order 16 (effective, after forward-backward)\n- Cutoffs at 6.00, 30.00 Hz: -6.02, -6.02 dB\n\nOpening raw data file /Users/daniele/Desktop/thesis/library/genbci/ssvep/data/dataset-ssvep-exoskeleton/./subject07/record-[2012.07.11-15.33.08]_raw.fif...\nIsotrak not found\n    Range : 0 ... 63039 =      0.000 ...   246.246 secs\nReady.\nReading 0 ... 63039  =      0.000 ...   246.246 secs...\nFiltering raw data in 1 contiguous segment\nSetting up band-pass filter from 6 - 30 Hz\n\nIIR filter parameters\n---------------------\nButterworth bandpass zero-phase (two-pass forward and reverse) non-causal filter:\n- Filter order 16 (effective, after forward-backward)\n- Cutoffs at 6.00, 30.00 Hz: -6.02, -6.02 dB\n\nOpening raw data file /Users/daniele/Desktop/thesis/library/genbci/ssvep/data/dataset-ssvep-exoskeleton/./subject07/record-[2012.07.18-09.15.30]_raw.fif...\nIsotrak not found\n    Range : 0 ... 82751 =      0.000 ...   323.246 secs\nReady.\nReading 0 ... 82751  =      0.000 ...   323.246 secs...\nFiltering raw data in 1 contiguous segment\nSetting up band-pass filter from 6 - 30 Hz\n\nIIR filter parameters\n---------------------\nButterworth bandpass zero-phase (two-pass forward and reverse) non-causal filter:\n- Filter order 16 (effective, after forward-backward)\n- Cutoffs at 6.00, 30.00 Hz: -6.02, -6.02 dB\n\nOpening raw data file /Users/daniele/Desktop/thesis/library/genbci/ssvep/data/dataset-ssvep-exoskeleton/./subject07/record-[2012.07.18-09.21.13]_raw.fif...\nIsotrak not found\n    Range : 0 ... 55199 =      0.000 ...   215.621 secs\nReady.\nReading 0 ... 55199  =      0.000 ...   215.621 secs...\nFiltering raw data in 1 contiguous segment\nSetting up band-pass filter from 6 - 30 Hz\n\nIIR filter parameters\n---------------------\nButterworth bandpass zero-phase (two-pass forward and reverse) non-causal filter:\n- Filter order 16 (effective, after forward-backward)\n- Cutoffs at 6.00, 30.00 Hz: -6.02, -6.02 dB\n\nOpening raw data file /Users/daniele/Desktop/thesis/library/genbci/ssvep/data/dataset-ssvep-exoskeleton/./subject08/record-[2013.04.06-16.22.32]_raw.fif...\nIsotrak not found\n    Range : 0 ... 76159 =      0.000 ...   297.496 secs\nReady.\nReading 0 ... 76159  =      0.000 ...   297.496 secs...\nFiltering raw data in 1 contiguous segment\nSetting up band-pass filter from 6 - 30 Hz\n\nIIR filter parameters\n---------------------\nButterworth bandpass zero-phase (two-pass forward and reverse) non-causal filter:\n- Filter order 16 (effective, after forward-backward)\n- Cutoffs at 6.00, 30.00 Hz: -6.02, -6.02 dB\n\nOpening raw data file /Users/daniele/Desktop/thesis/library/genbci/ssvep/data/dataset-ssvep-exoskeleton/./subject08/record-[2013.04.06-16.29.18]_raw.fif...\nIsotrak not found\n    Range : 0 ... 75967 =      0.000 ...   296.746 secs\nReady.\nReading 0 ... 75967  =      0.000 ...   296.746 secs...\nFiltering raw data in 1 contiguous segment\nSetting up band-pass filter from 6 - 30 Hz\n\nIIR filter parameters\n---------------------\nButterworth bandpass zero-phase (two-pass forward and reverse) non-causal filter:\n- Filter order 16 (effective, after forward-backward)\n- Cutoffs at 6.00, 30.00 Hz: -6.02, -6.02 dB\n\nOpening raw data file /Users/daniele/Desktop/thesis/library/genbci/ssvep/data/dataset-ssvep-exoskeleton/./subject08/record-[2013.04.06-16.35.05]_raw.fif...\nIsotrak not found\n    Range : 0 ... 75391 =      0.000 ...   294.496 secs\nReady.\nReading 0 ... 75391  =      0.000 ...   294.496 secs...\nFiltering raw data in 1 contiguous segment\nSetting up band-pass filter from 6 - 30 Hz\n\nIIR filter parameters\n---------------------\nButterworth bandpass zero-phase (two-pass forward and reverse) non-causal filter:\n- Filter order 16 (effective, after forward-backward)\n- Cutoffs at 6.00, 30.00 Hz: -6.02, -6.02 dB\n\nOpening raw data file /Users/daniele/Desktop/thesis/library/genbci/ssvep/data/dataset-ssvep-exoskeleton/./subject09/record-[2013.04.09-17.32.29]_raw.fif...\nIsotrak not found\n    Range : 0 ... 75711 =      0.000 ...   295.746 secs\nReady.\nReading 0 ... 75711  =      0.000 ...   295.746 secs...\nFiltering raw data in 1 contiguous segment\nSetting up band-pass filter from 6 - 30 Hz\n\nIIR filter parameters\n---------------------\nButterworth bandpass zero-phase (two-pass forward and reverse) non-causal filter:\n- Filter order 16 (effective, after forward-backward)\n- Cutoffs at 6.00, 30.00 Hz: -6.02, -6.02 dB\n\nOpening raw data file /Users/daniele/Desktop/thesis/library/genbci/ssvep/data/dataset-ssvep-exoskeleton/./subject09/record-[2013.04.09-17.39.37]_raw.fif...\nIsotrak not found\n    Range : 0 ... 75935 =      0.000 ...   296.621 secs\nReady.\nReading 0 ... 75935  =      0.000 ...   296.621 secs...\nFiltering raw data in 1 contiguous segment\nSetting up band-pass filter from 6 - 30 Hz\n\nIIR filter parameters\n---------------------\nButterworth bandpass zero-phase (two-pass forward and reverse) non-causal filter:\n- Filter order 16 (effective, after forward-backward)\n- Cutoffs at 6.00, 30.00 Hz: -6.02, -6.02 dB\n\nOpening raw data file /Users/daniele/Desktop/thesis/library/genbci/ssvep/data/dataset-ssvep-exoskeleton/./subject10/record-[2014.02.26-15.10.48]_raw.fif...\nIsotrak not found\n    Range : 0 ... 92671 =      0.000 ...   361.996 secs\nReady.\nReading 0 ... 92671  =      0.000 ...   361.996 secs...\nFiltering raw data in 1 contiguous segment\nSetting up band-pass filter from 6 - 30 Hz\n\nIIR filter parameters\n---------------------\nButterworth bandpass zero-phase (two-pass forward and reverse) non-causal filter:\n- Filter order 16 (effective, after forward-backward)\n- Cutoffs at 6.00, 30.00 Hz: -6.02, -6.02 dB\n\nOpening raw data file /Users/daniele/Desktop/thesis/library/genbci/ssvep/data/dataset-ssvep-exoskeleton/./subject10/record-[2014.02.26-15.32.36]_raw.fif...\nIsotrak not found\n    Range : 0 ... 76895 =      0.000 ...   300.371 secs\nReady.\nReading 0 ... 76895  =      0.000 ...   300.371 secs...\nFiltering raw data in 1 contiguous segment\nSetting up band-pass filter from 6 - 30 Hz\n\nIIR filter parameters\n---------------------\nButterworth bandpass zero-phase (two-pass forward and reverse) non-causal filter:\n- Filter order 16 (effective, after forward-backward)\n- Cutoffs at 6.00, 30.00 Hz: -6.02, -6.02 dB\n\nOpening raw data file /Users/daniele/Desktop/thesis/library/genbci/ssvep/data/dataset-ssvep-exoskeleton/./subject11/record-[2014.02.24-17.56.37]_raw.fif...\nIsotrak not found\n    Range : 0 ... 75199 =      0.000 ...   293.746 secs\nReady.\nReading 0 ... 75199  =      0.000 ...   293.746 secs...\nFiltering raw data in 1 contiguous segment\nSetting up band-pass filter from 6 - 30 Hz\n\nIIR filter parameters\n---------------------\nButterworth bandpass zero-phase (two-pass forward and reverse) non-causal filter:\n- Filter order 16 (effective, after forward-backward)\n- Cutoffs at 6.00, 30.00 Hz: -6.02, -6.02 dB\n\nOpening raw data file /Users/daniele/Desktop/thesis/library/genbci/ssvep/data/dataset-ssvep-exoskeleton/./subject11/record-[2014.02.24-18.02.40]_raw.fif...\nIsotrak not found\n    Range : 0 ... 75519 =      0.000 ...   294.996 secs\nReady.\nReading 0 ... 75519  =      0.000 ...   294.996 secs...\nFiltering raw data in 1 contiguous segment\nSetting up band-pass filter from 6 - 30 Hz\n\nIIR filter parameters\n---------------------\nButterworth bandpass zero-phase (two-pass forward and reverse) non-causal filter:\n- Filter order 16 (effective, after forward-backward)\n- Cutoffs at 6.00, 30.00 Hz: -6.02, -6.02 dB\n\nOpening raw data file /Users/daniele/Desktop/thesis/library/genbci/ssvep/data/dataset-ssvep-exoskeleton/./subject12/record-[2014.03.10-19.17.37]_raw.fif...\nIsotrak not found\n    Range : 0 ... 192223 =      0.000 ...   750.871 secs\nReady.\nReading 0 ... 192223  =      0.000 ...   750.871 secs...\nFiltering raw data in 1 contiguous segment\nSetting up band-pass filter from 6 - 30 Hz\n\nIIR filter parameters\n---------------------\nButterworth bandpass zero-phase (two-pass forward and reverse) non-causal filter:\n- Filter order 16 (effective, after forward-backward)\n- Cutoffs at 6.00, 30.00 Hz: -6.02, -6.02 dB\n\nOpening raw data file /Users/daniele/Desktop/thesis/library/genbci/ssvep/data/dataset-ssvep-exoskeleton/./subject12/record-[2014.03.10-19.47.49]_raw.fif...\nIsotrak not found\n    Range : 0 ... 90527 =      0.000 ...   353.621 secs\nReady.\nReading 0 ... 90527  =      0.000 ...   353.621 secs...\nFiltering raw data in 1 contiguous segment\nSetting up band-pass filter from 6 - 30 Hz\n\nIIR filter parameters\n---------------------\nButterworth bandpass zero-phase (two-pass forward and reverse) non-causal filter:\n- Filter order 16 (effective, after forward-backward)\n- Cutoffs at 6.00, 30.00 Hz: -6.02, -6.02 dB\n\n"
    }
   ],
   "source": [
    "import numpy as np\n",
    "from sklearn.metrics import roc_auc_score, precision_score, recall_score, accuracy_score\n",
    "from sklearn.model_selection import train_test_split\n",
    "import torch\n",
    "import torch.nn as nn\n",
    "import torch.optim as optim\n",
    "from torch.autograd import Variable\n",
    "import torch.nn.functional as F\n",
    "import torch.optim as optim\n",
    "\n",
    "device = 'gpu' if torch.cuda.is_available() else 'cpu'\n",
    "\n",
    "from genbci.util import init_torch_and_get_device, weights_init, get_exo_subject\n",
    "\n",
    "epochs_exo = get_exo_data(\n",
    "    \"/Users/daniele/Desktop/thesis/library/genbci/ssvep/data/dataset-ssvep-exoskeleton\",\n",
    "    plot=False,\n",
    ")\n",
    "\n",
    "\n",
    "data = epochs_exo.get_data()\n",
    "labels = epochs_exo.events[:, 2] - 1\n",
    "\n",
    "T = data.shape[2]\n"
   ]
  },
  {
   "cell_type": "code",
   "execution_count": 148,
   "metadata": {
    "tags": []
   },
   "outputs": [
    {
     "output_type": "stream",
     "name": "stdout",
     "text": "tensor([[ 0.8146, -3.2390, -1.7555,  1.1818]], grad_fn=<AddmmBackward>)\n"
    }
   ],
   "source": [
    "class EEGNet(nn.Module):\n",
    "    def __init__(self):\n",
    "        super(EEGNet, self).__init__()\n",
    "        self.T = T\n",
    "        \n",
    "        # Layer 1\n",
    "        self.conv1 = nn.Conv2d(1, 8, (1, 8), padding = 0)\n",
    "        self.batchnorm1 = nn.BatchNorm2d(8, False)\n",
    "        \n",
    "        # Layer 2\n",
    "        self.padding1 = nn.ZeroPad2d((16, 17, 0, 1))\n",
    "        self.conv2 = nn.Conv2d(1, 4, (2, 32))\n",
    "        self.batchnorm2 = nn.BatchNorm2d(4, False)\n",
    "        self.pooling2 = nn.MaxPool2d(2, 4)\n",
    "        \n",
    "        # Layer 3\n",
    "        self.padding2 = nn.ZeroPad2d((2, 1, 4, 3))\n",
    "        self.conv3 = nn.Conv2d(4, 4, (8, 4))\n",
    "        self.batchnorm3 = nn.BatchNorm2d(4, False)\n",
    "        self.pooling3 = nn.MaxPool2d((2, 4))\n",
    "        \n",
    "        # FC Layer\n",
    "        # NOTE: This dimension will depend on the number of timestamps per sample in your data.\n",
    "        # I have 120 timepoints. \n",
    "        self.fc1 = nn.Linear(192, 4)\n",
    "        \n",
    "\n",
    "    def forward(self, x):\n",
    "        # Layer 1\n",
    "        x = F.elu(self.conv1(x))\n",
    "        x = self.batchnorm1(x)\n",
    "        x = F.dropout(x, 0.25)\n",
    "        x = x.permute(0, 3, 1, 2)\n",
    "        \n",
    "        # Layer 2\n",
    "        x = self.padding1(x)\n",
    "        x = F.elu(self.conv2(x))\n",
    "        x = self.batchnorm2(x)\n",
    "        x = F.dropout(x, 0.25)\n",
    "        x = self.pooling2(x)\n",
    "        \n",
    "        # Layer 3\n",
    "        x = self.padding2(x)\n",
    "        x = F.elu(self.conv3(x))\n",
    "        x = self.batchnorm3(x)\n",
    "        x = F.dropout(x, 0.25)\n",
    "        x = self.pooling3(x)\n",
    "        \n",
    "        # FC Layer\n",
    "        x = x.view(-1, 192)\n",
    "        x = self.fc1(x)\n",
    "        return x\n",
    "\n",
    "\n",
    "net = EEGNet().to(device)\n",
    "print(net.forward(Variable(torch.Tensor(np.random.rand(1, 1, 769, 8)).to(device))))\n",
    "criterion = nn.CrossEntropyLoss()\n",
    "optimizer = optim.Adam(net.parameters())"
   ]
  },
  {
   "cell_type": "code",
   "execution_count": 149,
   "metadata": {},
   "outputs": [],
   "source": [
    "\n",
    "def evaluate(model, X, Y, params = [\"acc\"]):\n",
    "    results = []\n",
    "    batch_size = 100\n",
    "    \n",
    "    predicted = []\n",
    "    \n",
    "    for i in range(len(X)//batch_size):\n",
    "        s = i*batch_size\n",
    "        e = i*batch_size+batch_size\n",
    "        \n",
    "        inputs = Variable(torch.from_numpy(X[s:e]).to(device))\n",
    "        pred = model(inputs)\n",
    "        \n",
    "        predicted.append(pred.data.cpu().numpy())\n",
    "        \n",
    "        \n",
    "    inputs = Variable(torch.from_numpy(X).to(device))\n",
    "    predicted = model(inputs)\n",
    "    \n",
    "    predicted = predicted.data.cpu().numpy()\n",
    "    \n",
    "    for param in params:\n",
    "        if param == 'acc':\n",
    "\n",
    "            predicted = np.argmax(predicted,1)\n",
    "            results.append(accuracy_score(Y, np.round(predicted)))\n",
    "        if param == \"auc\":\n",
    "            results.append(roc_auc_score(Y, predicted))\n",
    "        if param == \"recall\":\n",
    "            results.append(recall_score(Y, np.round(predicted)))\n",
    "        if param == \"precision\":\n",
    "            results.append(precision_score(Y, np.round(predicted)))\n",
    "        if param == \"fmeasure\":\n",
    "            precision = precision_score(Y, np.round(predicted))\n",
    "            recall = recall_score(Y, np.round(predicted))\n",
    "            results.append(2*precision*recall/ (precision+recall))\n",
    "    return results"
   ]
  },
  {
   "cell_type": "code",
   "execution_count": 150,
   "metadata": {},
   "outputs": [],
   "source": [
    "X_train = np.transpose(data, (0,2,1))\n",
    "X_train = X_train[:,None,:,:].astype('float32')\n",
    "y_train = labels.astype('float32')\n",
    "\n",
    "\n",
    "X_train, X_test, y_train, y_test = train_test_split(\n",
    "         X_train, y_train, test_size=0.2, random_state=42)\n"
   ]
  },
  {
   "cell_type": "code",
   "execution_count": 151,
   "metadata": {
    "tags": []
   },
   "outputs": [
    {
     "output_type": "stream",
     "name": "stdout",
     "text": "\nEpoch  0\n['acc']\nTraining Loss  32.95331430435181\nTrain -  [0.2735166425470333]\nTest -  [0.2543352601156069]\n\nEpoch  1\n['acc']\nTraining Loss  30.428956747055054\nTrain -  [0.2981186685962373]\nTest -  [0.21965317919075145]\n\nEpoch  2\n['acc']\nTraining Loss  28.851829767227173\nTrain -  [0.2706222865412446]\nTest -  [0.19653179190751446]\n\nEpoch  3\n['acc']\nTraining Loss  29.024805188179016\nTrain -  [0.2691751085383502]\nTest -  [0.1791907514450867]\n\nEpoch  4\n['acc']\nTraining Loss  29.267343878746033\nTrain -  [0.2821997105643994]\nTest -  [0.2947976878612717]\n\nEpoch  5\n['acc']\nTraining Loss  27.91148602962494\nTrain -  [0.3154848046309696]\nTest -  [0.23699421965317918]\n\nEpoch  6\n['acc']\nTraining Loss  27.94833278656006\nTrain -  [0.32127351664254705]\nTest -  [0.23121387283236994]\n\nEpoch  7\n['acc']\nTraining Loss  27.188709378242493\nTrain -  [0.3111432706222865]\nTest -  [0.2774566473988439]\n\nEpoch  8\n['acc']\nTraining Loss  27.480726838111877\nTrain -  [0.38060781476121563]\nTest -  [0.24855491329479767]\n\nEpoch  9\n['acc']\nTraining Loss  26.952926993370056\nTrain -  [0.3429811866859624]\nTest -  [0.2254335260115607]\n\nEpoch  10\n['acc']\nTraining Loss  26.9015394449234\nTrain -  [0.38060781476121563]\nTest -  [0.21965317919075145]\n\nEpoch  11\n['acc']\nTraining Loss  26.49588692188263\nTrain -  [0.3849493487698987]\nTest -  [0.2138728323699422]\n\nEpoch  12\n['acc']\nTraining Loss  26.226439476013184\nTrain -  [0.3791606367583213]\nTest -  [0.2543352601156069]\n\nEpoch  13\n['acc']\nTraining Loss  26.317654728889465\nTrain -  [0.3835021707670043]\nTest -  [0.26011560693641617]\n\nEpoch  14\n['acc']\nTraining Loss  25.791673064231873\nTrain -  [0.4037626628075253]\nTest -  [0.2023121387283237]\n\nEpoch  15\n['acc']\nTraining Loss  25.36419939994812\nTrain -  [0.3979739507959479]\nTest -  [0.2543352601156069]\n\nEpoch  16\n['acc']\nTraining Loss  25.451457738876343\nTrain -  [0.4356005788712012]\nTest -  [0.1907514450867052]\n\nEpoch  17\n['acc']\nTraining Loss  25.15172827243805\nTrain -  [0.4312590448625181]\nTest -  [0.30057803468208094]\n\nEpoch  18\n['acc']\nTraining Loss  24.785279989242554\nTrain -  [0.4515195369030391]\nTest -  [0.31213872832369943]\n\nEpoch  19\n['acc']\nTraining Loss  24.47198212146759\nTrain -  [0.4761215629522431]\nTest -  [0.28901734104046245]\n\nEpoch  20\n['acc']\nTraining Loss  24.163521826267242\nTrain -  [0.48480463096960924]\nTest -  [0.3063583815028902]\n\nEpoch  21\n['acc']\nTraining Loss  23.97097158432007\nTrain -  [0.48191027496382055]\nTest -  [0.27167630057803466]\n\nEpoch  22\n['acc']\nTraining Loss  23.374975562095642\nTrain -  [0.4703328509406657]\nTest -  [0.3179190751445087]\n\nEpoch  23\n['acc']\nTraining Loss  23.40592646598816\nTrain -  [0.4804630969609262]\nTest -  [0.34104046242774566]\n\nEpoch  24\n['acc']\nTraining Loss  22.590277075767517\nTrain -  [0.5195369030390738]\nTest -  [0.2947976878612717]\n\nEpoch  25\n['acc']\nTraining Loss  22.292470157146454\nTrain -  [0.5123010130246021]\nTest -  [0.3468208092485549]\n\nEpoch  26\n['acc']\nTraining Loss  22.022761583328247\nTrain -  [0.5195369030390738]\nTest -  [0.3352601156069364]\n\nEpoch  27\n['acc']\nTraining Loss  21.71810519695282\nTrain -  [0.5195369030390738]\nTest -  [0.3699421965317919]\n\nEpoch  28\n['acc']\nTraining Loss  21.373761892318726\nTrain -  [0.5282199710564399]\nTest -  [0.28901734104046245]\n\nEpoch  29\n['acc']\nTraining Loss  21.598473012447357\nTrain -  [0.5253256150506512]\nTest -  [0.32947976878612717]\n"
    }
   ],
   "source": [
    "batch_size = 32\n",
    "\n",
    "for epoch in range(30):  # loop over the dataset multiple times\n",
    "    print(\"\\nEpoch \", epoch)\n",
    "    \n",
    "    running_loss = 0.0\n",
    "    for i in range(len(X_train)//batch_size-1):\n",
    "        s = i*batch_size\n",
    "        e = i*batch_size+batch_size\n",
    "\n",
    "        \n",
    "        inputs = torch.from_numpy(X_train[s:e])\n",
    "        labels = torch.LongTensor(np.array(y_train[s:e]))\n",
    "        \n",
    "        # wrap them in Variable\n",
    "        inputs, labels = Variable(inputs.to(device)), Variable(labels.to(device))\n",
    "\n",
    "        # zero the parameter gradients\n",
    "        optimizer.zero_grad()\n",
    "\n",
    "        # forward + backward + optimize\n",
    "        outputs = net(inputs)\n",
    "\n",
    "        loss = criterion(outputs, labels)\n",
    "        loss.backward()\n",
    "        \n",
    "        \n",
    "        optimizer.step()\n",
    "        \n",
    "        running_loss += loss.item()\n",
    "    \n",
    "    # Validation accuracy\n",
    "    params = [\"acc\"]\n",
    "    print(params)\n",
    "    print(\"Training Loss \", running_loss)\n",
    "    print(\"Train - \", evaluate(net, X_train, y_train, params))\n",
    "    #print(\"Validation - \", evaluate(net, X_val, y_val, params))\n",
    "    print(\"Test - \", evaluate(net, X_test, y_test, params))"
   ]
  },
  {
   "cell_type": "code",
   "execution_count": null,
   "metadata": {},
   "outputs": [],
   "source": []
  },
  {
   "cell_type": "code",
   "execution_count": null,
   "metadata": {},
   "outputs": [],
   "source": []
  }
 ]
}